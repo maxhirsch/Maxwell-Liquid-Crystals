{
 "cells": [
  {
   "cell_type": "code",
   "execution_count": null,
   "id": "a729912f",
   "metadata": {},
   "outputs": [],
   "source": [
    "from dolfin import *\n",
    "from ufl import le\n",
    "import operator\n",
    "import numpy as np\n",
    "import matplotlib as mpl\n",
    "import matplotlib.pyplot as plt\n",
    "from tqdm import tqdm\n",
    "\n",
    "import os\n",
    "if not os.path.exists(\"./Experiment2-Plots\"):\n",
    "    os.makedirs(\"./Experiment2-Plots\")\n",
    "\n",
    "params = {'legend.fontsize': 'x-large',\n",
    "         'axes.labelsize': 'x-large',\n",
    "         'axes.titlesize':'x-large',\n",
    "         'xtick.labelsize':'x-large',\n",
    "         'ytick.labelsize':'x-large'}\n",
    "plt.rcParams.update(params)"
   ]
  },
  {
   "cell_type": "code",
   "execution_count": null,
   "id": "edb3bb64",
   "metadata": {},
   "outputs": [],
   "source": [
    "# Q-Tensor parameters\n",
    "n = 2\n",
    "num_steps = 200\n",
    "T = 2.0\n",
    "dt = T/num_steps\n",
    "a = -0.3\n",
    "b = -4.\n",
    "c = 4.\n",
    "M = 1.\n",
    "L = 1.\n",
    "\n",
    "# Parameters for electric field\n",
    "R = 2.\n",
    "eps2 = 0.5\n",
    "eps3 = 0.01\n",
    "eps1 = 2.5\n",
    "\n",
    "# Parameters for convex splitting\n",
    "beta1 = 8.\n",
    "beta2 = 8."
   ]
  },
  {
   "cell_type": "code",
   "execution_count": null,
   "id": "63f67935",
   "metadata": {},
   "outputs": [],
   "source": [
    "# Create mesh\n",
    "mesh = RectangleMesh(Point(-0.5, -0.5), Point(0.5, 0.5), 30, 30)"
   ]
  },
  {
   "cell_type": "code",
   "execution_count": null,
   "id": "6299cda0",
   "metadata": {},
   "outputs": [],
   "source": [
    "# some functions for the scheme\n",
    "I = Constant(np.eye(n)) # identity matrix\n",
    "Zero = 0 * I\n",
    "Zero_func = 0*Function(FunctionSpace(mesh, \"Lagrange\", 1))\n",
    "\n",
    "def dF1_dQ(Q):\n",
    "    Q2 = Q*Q\n",
    "    trQ2 = tr(Q2)\n",
    "    result = beta1 * Q - b*(Q2 - 1/n * trQ2 * I) + beta2 * trQ2 * Q\n",
    "    return result\n",
    "\n",
    "def dF2_dQ(Q):\n",
    "    Q2 = Q*Q\n",
    "    trQ2 = tr(Q2)\n",
    "    result = (beta1 - a) * Q + (beta2 - c) * trQ2 * Q\n",
    "    return result\n",
    "\n",
    "def F_tot(Q):\n",
    "    Q2 = Q*Q\n",
    "    trQ2 = tr(Q2)\n",
    "    trQ3 = tr(Q2*Q)\n",
    "    result = a/2 * trQ2 - b/3 * trQ3 + c/4 * trQ2**2\n",
    "    return result\n",
    "\n",
    "def tens(Q):\n",
    "    \"\"\"\n",
    "    Make vector function into tensor\n",
    "    \"\"\"\n",
    "    return as_tensor([[Q[0], Q[1]],\n",
    "                      [Q[1], -1*Q[0]]])\n",
    "\n",
    "def tens_hi(Q):\n",
    "    return as_tensor([[Q[0], Q[1]],\n",
    "                      [Zero_func, Zero_func]])\n",
    "\n",
    "def tens_lo(Q):\n",
    "    return as_tensor([[Zero_func, Zero_func],\n",
    "                      [Q[0], Q[1]]])\n",
    "\n",
    "# approximate Heaviside function\n",
    "steepness = 5\n",
    "\n",
    "def H_(x):\n",
    "    return 1/np.pi * atan(steepness * x) + 0.5\n",
    "\n",
    "def DH_(x):\n",
    "    return 1/np.pi * steepness / (1 + (steepness * x)**2)\n",
    "\n",
    "# truncation of one component to R/d, d=2\n",
    "def TR_1D(x):\n",
    "    return x * H_(R/2-x) * H_(R/2+x) + R/2*H_(x-R/2) - R/2*H_(-x-R/2)\n",
    "\n",
    "# derivative of TR_1D\n",
    "def calP_1D(x):\n",
    "    return H_(R/2-x)*H_(R/2+x) - x*DH_(R/2-x)*H_(R/2+x) + x*H_(R/2-x)*DH_(R/2+x) + R/2*DH_(x-R/2) + R/2*DH_(-x-R/2)\n",
    "\n",
    "# now if Q is a tensor\n",
    "def TR(Q):\n",
    "    return as_tensor([[TR_1D(Q[0, 0]), TR_1D(Q[0, 1])], \n",
    "                      [TR_1D(Q[1, 0]), TR_1D(Q[1, 1])]])\n",
    "\n",
    "def calP(Q):\n",
    "    return as_tensor([[calP_1D(Q[0, 0]), calP_1D(Q[0, 1])], \n",
    "                      [calP_1D(Q[1, 0]), calP_1D(Q[1, 1])]])\n",
    "\n",
    "def calP_h(Q1, Q0):\n",
    "    P11 = calP_1D(Q0[0, 0])\n",
    "    P12 = calP_1D(Q0[0, 1])\n",
    "    P21 = calP_1D(Q0[1, 0])\n",
    "    P22 = calP_1D(Q0[1, 1])\n",
    "    \n",
    "    res = as_tensor([[P11, P12],\n",
    "                      [P21, P22]])\n",
    "    return res\n",
    "\n",
    "def element_mult(A, B):\n",
    "    return as_tensor([[A[0, 0] * B[0, 0], A[0, 1] * B[0, 1]], \n",
    "                      [A[1, 0] * B[1, 0], A[1, 1] * B[1, 1]]])"
   ]
  },
  {
   "cell_type": "markdown",
   "id": "8f847c93",
   "metadata": {},
   "source": [
    "## Initialize $Q_h^0$ and $u_h^0$"
   ]
  },
  {
   "cell_type": "code",
   "execution_count": null,
   "id": "2e802ba2",
   "metadata": {},
   "outputs": [],
   "source": [
    "# initial conditions for the Q tensor\n",
    "class InitialConditions(UserExpression):\n",
    "    def eval(self, values, x):\n",
    "        x, y = x[0], x[1]\n",
    "        if np.isclose(x, -0.5) or np.isclose(x, 0.5) or np.isclose(y, -0.5) or np.isclose(y, 0.5):\n",
    "            values[0] = 0.0\n",
    "            values[1] = 0.0\n",
    "        else:\n",
    "            n0 = (x+0.5)*(x-0.5)*(y+0.5)*(y-0.5)\n",
    "            n1 = (x+0.5)*(x-0.5)*(y+0.5)*(y-0.5)\n",
    "            d = np.array([[n0], [n1]]) # director\n",
    "            Q0 = d @ d.T - np.sum(d*d)/2.0 * np.eye(2) # Q tensor\n",
    "\n",
    "            values[0] = Q0[0, 0]\n",
    "            values[1] = Q0[0, 1]\n",
    "    def value_shape(self):\n",
    "        return (2,)"
   ]
  },
  {
   "cell_type": "code",
   "execution_count": null,
   "id": "352fdb42",
   "metadata": {},
   "outputs": [],
   "source": [
    "# initialize Q tensor at time 0\n",
    "Q0 = Function(VectorFunctionSpace(mesh, \"Lagrange\", 1, dim=2))\n",
    "Q_init = InitialConditions()\n",
    "Q0.interpolate(Q_init)\n",
    "\n",
    "# define uninitialized u0 and linear form to solve for u0\n",
    "u_space = FunctionSpace(mesh, \"Lagrange\", 1)\n",
    "u0 = Function(u_space)\n",
    "v = TestFunction(u_space)\n",
    "\n",
    "L_elliptic = inner(grad(u0) + eps2*TR(tens(Q0))*grad(u0) + eps3*div(tens(Q0)), grad(v))*dx\n",
    "\n",
    "# define boundary condition for u0\n",
    "t = 0.0\n",
    "u_b = Expression(f'10*{t}*sin({2*np.pi*t+0.2})*(x[0]+0.5)*sin({np.pi}*x[1])', degree=2)\n",
    "bc_u = DirichletBC(u_space, u_b, DomainBoundary())\n",
    "\n",
    "# solve for u0\n",
    "solve(L_elliptic == 0, u0, bc_u)"
   ]
  },
  {
   "cell_type": "markdown",
   "id": "b5e38d55",
   "metadata": {},
   "source": [
    "# Define and solve scheme"
   ]
  },
  {
   "cell_type": "code",
   "execution_count": null,
   "id": "32896575",
   "metadata": {},
   "outputs": [],
   "source": [
    "class QTensorEquation(NonlinearProblem):\n",
    "    def __init__(self, L, a, bcs):\n",
    "        NonlinearProblem.__init__(self)\n",
    "        self.L = L\n",
    "        self.a = a\n",
    "        self.bcs = bcs\n",
    "    def F(self, b, x):\n",
    "        assemble(self.L, tensor=b)\n",
    "        for bc in self.bcs:\n",
    "            bc.apply(b,x)\n",
    "    def J(self, A, x):\n",
    "        assemble(self.a, tensor=A)\n",
    "        for bc in self.bcs:\n",
    "            bc.apply(A)"
   ]
  },
  {
   "cell_type": "code",
   "execution_count": null,
   "id": "0e65ef5e",
   "metadata": {},
   "outputs": [],
   "source": [
    "Q_space = VectorElement(\"Lagrange\", mesh.ufl_cell(), 1, dim=2)\n",
    "u_space = FiniteElement(\"Lagrange\", mesh.ufl_cell(), 1)\n",
    "ME = MixedElement(Q_space, u_space)\n",
    "V = FunctionSpace(mesh, ME)"
   ]
  },
  {
   "cell_type": "code",
   "execution_count": null,
   "id": "42e3ecf5",
   "metadata": {},
   "outputs": [],
   "source": [
    "# Define trial and test functions\n",
    "dQu = TrialFunction(V)\n",
    "q, v = TestFunctions(V)\n",
    "r, _ = TestFunctions(V)\n",
    "\n",
    "# Define functions\n",
    "Qu = Function(V)\n",
    "\n",
    "# Split mixed functions\n",
    "dQ, du = split(dQu)\n",
    "Q, u = split(Qu)"
   ]
  },
  {
   "cell_type": "code",
   "execution_count": null,
   "id": "780244da",
   "metadata": {},
   "outputs": [],
   "source": [
    "# Weak statement of the equation\n",
    "L_form = inner(tens(Q - Q0), tens(q))*dx\\\n",
    "    + M*L*dt/2*inner(grad(tens(Q+Q0)), grad(tens(q)))*dx\\\n",
    "    + M*dt*inner(dF1_dQ(tens(Q)), tens(q))*dx\\\n",
    "    - M*dt*inner(dF2_dQ(tens(Q0)), tens(q))*dx\\\n",
    "    - M*eps2*dt/2*(inner(element_mult(calP_h(tens(Q), tens(Q0)), outer(grad(u0), grad(u))) - (1/n)*tr(element_mult(calP_h(tens(Q), tens(Q0)), outer(grad(u0), grad(u))))*I, tens(q))*dx)\\\n",
    "    - M*eps3*dt/2*(inner(grad(u+u0), div(sym(tens_hi(q))))*dx - (1/n)*inner(grad(u+u0), grad(tr(tens(q))))*dx)\\\n",
    "    + dt*inner(grad(u) + eps2*TR(tens(Q))*grad(u) + eps3*div(tens(Q)), grad(v))*dx\n",
    "\n",
    "a_form = derivative(L_form, Qu, dQu)"
   ]
  },
  {
   "cell_type": "code",
   "execution_count": null,
   "id": "28b94e00",
   "metadata": {
    "scrolled": true
   },
   "outputs": [],
   "source": [
    "# boundary conditions for Q do not change\n",
    "bc_Q = DirichletBC(V.sub(0), np.zeros(2), DomainBoundary())\n",
    "\n",
    "# Store solutions and times\n",
    "Q_array = Q0.vector()[:].reshape(-1, 2)\n",
    "Q_11 = Q_array[:, 0]\n",
    "Q_12 = Q_array[:, 1]\n",
    "solutions_Q = [np.array([[Q_11, Q_12], [Q_12, -Q_11]]).transpose(2, 0, 1)]\n",
    "solutions_u = [np.array(u0.vector()[:].reshape(-1, 1))]\n",
    "times = [0.0]\n",
    "\n",
    "solver = NewtonSolver()\n",
    "\n",
    "t = 0.0\n",
    "while (t < T):\n",
    "    print(t)\n",
    "    t += dt\n",
    "    times.append(t)\n",
    "    \n",
    "    u_b = Expression(f'10*{t}*sin({2*np.pi*t+0.2})*(x[0]+0.5)*sin({np.pi}*x[1])', degree=2)\n",
    "    bc_u = DirichletBC(V.sub(1), u_b, DomainBoundary())\n",
    "    \n",
    "    problem = QTensorEquation(L_form, a_form, [bc_Q, bc_u])\n",
    "    solver.solve(problem, Qu.vector())\n",
    "    \n",
    "    Q_array = Qu.sub(0, deepcopy=True).vector()[:].reshape(-1, 2)\n",
    "    Q_11 = Q_array[:, 0]\n",
    "    Q_12 = Q_array[:, 1]\n",
    "    \n",
    "    solutions_Q.append(np.array([[Q_11, Q_12], [Q_12, -Q_11]]).transpose(2, 0, 1))\n",
    "    solutions_u.append(np.array(Qu.sub(1, deepcopy=True).vector()[:].reshape(-1, 1)))\n",
    "    \n",
    "    Q0.vector()[:] = np.ascontiguousarray(Qu.sub(0, deepcopy=True).vector()[:])\n",
    "    u0.vector()[:] = np.ascontiguousarray(Qu.sub(1, deepcopy=True).vector()[:])"
   ]
  },
  {
   "cell_type": "markdown",
   "id": "16298a62",
   "metadata": {},
   "source": [
    "# Visualize solution"
   ]
  },
  {
   "cell_type": "code",
   "execution_count": null,
   "id": "dbdef158",
   "metadata": {},
   "outputs": [],
   "source": [
    "solutions_u = np.array(solutions_u)\n",
    "solutions_Q = np.array(solutions_Q) # time x mesh size x rows x cols"
   ]
  },
  {
   "cell_type": "code",
   "execution_count": null,
   "id": "8e246abf",
   "metadata": {},
   "outputs": [],
   "source": [
    "# turn solutions into time series of vector field and use plot command from FEniCS\n",
    "directors = np.zeros((solutions_Q.shape[0], solutions_Q.shape[1], 2, 1))\n",
    "for time in range(solutions_Q.shape[0]):\n",
    "    for point in range(solutions_Q.shape[1]):\n",
    "        Q_tensor = solutions_Q[time, point]\n",
    "        eigenvalues, eigenvectors = np.linalg.eigh(Q_tensor)\n",
    "        v1 = eigenvectors[:, 0]\n",
    "        v2 = eigenvectors[:, 1]\n",
    "        if np.sum(np.abs(Q_tensor)) > 1e-6:\n",
    "            director1x = v1[0]\n",
    "            director1y = v1[1]\n",
    "            director2x = v2[0]\n",
    "            director2y = v2[1]\n",
    "            directors[time, point] = v2.reshape(-1, 1)\n",
    "        else:\n",
    "            directors[time, point] = np.zeros((2, 1))"
   ]
  },
  {
   "cell_type": "code",
   "execution_count": null,
   "id": "d13fa4de",
   "metadata": {},
   "outputs": [],
   "source": [
    "DirectorSpace = VectorFunctionSpace(mesh, \"Lagrange\", 1, dim=n)\n",
    "D0 = Function(DirectorSpace)\n",
    "u1 = Function(FunctionSpace(mesh, \"Lagrange\", 1))\n",
    "for time in range(directors.shape[0]):\n",
    "    fig, ax = plt.subplots(1, 1)\n",
    "    \n",
    "    u1.vector()[:] = np.ascontiguousarray(solutions_u[time].reshape(-1))\n",
    "    out = plot(u1, vmin=np.min(solutions_u), vmax=np.max(solutions_u))\n",
    "    \n",
    "    D0.vector()[:] = np.ascontiguousarray(directors[time].reshape(-1))\n",
    "    out = plot(D0, scale=25., pivot='mid', clim=(0., 0.), headaxislength=0)\n",
    "    \n",
    "    fraction = 1  # .05\n",
    "    norm = mpl.colors.Normalize(vmin=np.min(solutions_u), vmax=np.max(solutions_u))\n",
    "    if abs(time*dt - 1.75) <= 1e-4:\n",
    "        cbar = ax.figure.colorbar(mpl.cm.ScalarMappable(norm=norm))\n",
    "    \n",
    "    print(f\"{times[time]:.2f}\")\n",
    "    if abs(time*dt - 0) <= 1e-4 or abs(time*dt - 0.25) <= 1e-4 or abs(time*dt - 0.5) <= 1e-4\\\n",
    "        or abs(time*dt - 0.75) <= 1e-4 or abs(time*dt - 1) <= 1e-4 or abs(time*dt - 1.25) <= 1e-4\\\n",
    "        or abs(time*dt - 1.5) <= 1e-4 or abs(time*dt - 1.75) <= 1e-4 or abs(time*dt - 2) <= 1e-4:\n",
    "        plt.savefig(f\"./Experiment2-Plots/experiment2_{time}.pdf\", bbox_inches='tight')\n",
    "    plt.show()"
   ]
  },
  {
   "cell_type": "markdown",
   "id": "a9443d06",
   "metadata": {},
   "source": [
    "# Look at eigenvalues and entries of Q tensors"
   ]
  },
  {
   "cell_type": "code",
   "execution_count": null,
   "id": "4b07aa59",
   "metadata": {
    "scrolled": true
   },
   "outputs": [],
   "source": [
    "eigenvalue_1 = []\n",
    "eigenvalue_2 = []\n",
    "for time_i in range(solutions_Q.shape[0]):\n",
    "    eigenvalue_1.append([])\n",
    "    eigenvalue_2.append([])\n",
    "    for vertex in range(solutions_Q.shape[1]):\n",
    "        w, v = np.linalg.eigh(solutions_Q[time_i, vertex])\n",
    "        eigenvalue_1[-1].append(w[0])\n",
    "        eigenvalue_2[-1].append(w[1])"
   ]
  },
  {
   "cell_type": "code",
   "execution_count": null,
   "id": "4323e97f",
   "metadata": {},
   "outputs": [],
   "source": [
    "max_entries_tQ = []\n",
    "max_entries_t = []\n",
    "for time_i in range(solutions_Q.shape[0]):\n",
    "    max_entries_tQ.append([])\n",
    "    for vertex in range(solutions_Q.shape[1]):\n",
    "        max_entries_tQ[-1].append(np.max(np.abs(solutions_Q[time_i, vertex])))\n",
    "    max_entries_t.append(np.max(max_entries_tQ[-1]))"
   ]
  },
  {
   "cell_type": "code",
   "execution_count": null,
   "id": "d52ffe76",
   "metadata": {},
   "outputs": [],
   "source": [
    "plt.plot(np.arange(len(max_entries_t))*dt, max_entries_t, label='Max |Q Tensor Entries|')\n",
    "plt.plot(np.arange(len(eigenvalue_2))*dt, np.max(eigenvalue_2, axis=1), linestyle='--', label='Max Eigenvalue')\n",
    "plt.plot(np.arange(len(max_entries_t))*dt, np.abs(np.arange(len(max_entries_t))*dt*np.sin(2*np.pi*np.arange(len(max_entries_t))*dt+0.2)), label='$|t\\sin(2\\pi t+0.2)|$')\n",
    "plt.xlabel(\"Time ($t$)\")\n",
    "plt.legend()\n",
    "plt.savefig(\"./Experiment2-Plots/experiment2_eigenvalues.pdf\", bbox_inches='tight')\n",
    "plt.show()"
   ]
  },
  {
   "cell_type": "code",
   "execution_count": null,
   "id": "f3c0339c",
   "metadata": {},
   "outputs": [],
   "source": []
  }
 ],
 "metadata": {
  "kernelspec": {
   "display_name": "NEIM2",
   "language": "python",
   "name": "neim2"
  },
  "language_info": {
   "codemirror_mode": {
    "name": "ipython",
    "version": 3
   },
   "file_extension": ".py",
   "mimetype": "text/x-python",
   "name": "python",
   "nbconvert_exporter": "python",
   "pygments_lexer": "ipython3",
   "version": "3.9.22"
  }
 },
 "nbformat": 4,
 "nbformat_minor": 5
}
